{
  "nbformat": 4,
  "nbformat_minor": 0,
  "metadata": {
    "colab": {
      "name": "Keras_Regression.ipynb",
      "provenance": []
    },
    "kernelspec": {
      "name": "python3",
      "display_name": "Python 3"
    }
  },
  "cells": [
    {
      "cell_type": "code",
      "metadata": {
        "id": "rpWeSgq7yFsg",
        "colab_type": "code",
        "colab": {}
      },
      "source": [
        "import numpy as np\n",
        "from keras.models import Sequential\n",
        "from keras.layers import Dense\n",
        "import matplotlib.pyplot as plt "
      ],
      "execution_count": null,
      "outputs": []
    },
    {
      "cell_type": "code",
      "metadata": {
        "id": "7MAJ96FyIPmH",
        "colab_type": "code",
        "colab": {}
      },
      "source": [
        "np.random.seed(121)\n",
        "X = np.linspace(-1,1,200)\n",
        "np.random.shuffle(X)\n",
        "Y = 2*X +np.random.randn(*X.shape) * 0.33"
      ],
      "execution_count": null,
      "outputs": []
    },
    {
      "cell_type": "code",
      "metadata": {
        "id": "p7zGu_gUI-IH",
        "colab_type": "code",
        "colab": {
          "base_uri": "https://localhost:8080/",
          "height": 283
        },
        "outputId": "af1ce2de-2577-47fc-dd6c-c9c0d6878c21"
      },
      "source": [
        "plt.scatter(X,Y)"
      ],
      "execution_count": null,
      "outputs": [
        {
          "output_type": "execute_result",
          "data": {
            "text/plain": [
              "<matplotlib.collections.PathCollection at 0x7ffaa8cb96d8>"
            ]
          },
          "metadata": {
            "tags": []
          },
          "execution_count": 9
        },
        {
          "output_type": "display_data",
          "data": {
            "image/png": "[encoded data removed]",
            "text/plain": [
              "<Figure size 432x288 with 1 Axes>"
            ]
          },
          "metadata": {
            "tags": [],
            "needs_background": "light"
          }
        }
      ]
    },
    {
      "cell_type": "code",
      "metadata": {
        "id": "5rR1FljKJJWr",
        "colab_type": "code",
        "colab": {}
      },
      "source": [
        "#split data\n",
        "x_train ,y_train = X[:160],Y[:160]\n",
        "x_test , y_test = X[160:],Y[160:]"
      ],
      "execution_count": null,
      "outputs": []
    },
    {
      "cell_type": "code",
      "metadata": {
        "id": "LNrfqc-aLITu",
        "colab_type": "code",
        "colab": {
          "base_uri": "https://localhost:8080/",
          "height": 88
        },
        "outputId": "e56c8bef-a3b9-4b83-ace0-70e5cc241861"
      },
      "source": [
        "print(x_train.shape)\n",
        "print(y_train.shape)\n",
        "print(x_test.shape)\n",
        "print(y_test.shape)"
      ],
      "execution_count": null,
      "outputs": [
        {
          "output_type": "stream",
          "text": [
            "(160,)\n",
            "(160,)\n",
            "(40,)\n",
            "(40,)\n"
          ],
          "name": "stdout"
        }
      ]
    },
    {
      "cell_type": "code",
      "metadata": {
        "id": "JirzU6_9LVFM",
        "colab_type": "code",
        "colab": {}
      },
      "source": [
        "#Create a Neural Network Model\n",
        "\n",
        "model = Sequential()\n",
        "model.add(Dense(units=1,input_dim=1,kernel_initializer='uniform',activation='linear'))\n",
        "\n",
        "model.compile(loss=\"mse\" , optimizer=\"sgd\")"
      ],
      "execution_count": null,
      "outputs": []
    },
    {
      "cell_type": "code",
      "metadata": {
        "id": "LwCppqQWQtAH",
        "colab_type": "code",
        "colab": {
          "base_uri": "https://localhost:8080/",
          "height": 70
        },
        "outputId": "9b5d1ad7-bd25-4a29-9776-12ec91107cfd"
      },
      "source": [
        "# print initial weights\n",
        "weights = model.layers[0].get_weights()\n",
        "print(weights)\n",
        "w_init = weights[0][0][0]\n",
        "print(f\"initial weight : {w_init}\")\n",
        "b_init=weights[1][0]\n",
        "print(f\"initial bias : {b_init}\")"
      ],
      "execution_count": null,
      "outputs": [
        {
          "output_type": "stream",
          "text": [
            "[array([[0.02728696]], dtype=float32), array([0.], dtype=float32)]\n",
            "initial weight : 0.027286957949399948\n",
            "initial bias : 0.0\n"
          ],
          "name": "stdout"
        }
      ]
    },
    {
      "cell_type": "code",
      "metadata": {
        "id": "aPfcnIyuYavj",
        "colab_type": "code",
        "colab": {
          "base_uri": "https://localhost:8080/",
          "height": 195
        },
        "outputId": "61bf761e-32b7-4460-af75-332779903761"
      },
      "source": [
        "model.summary()"
      ],
      "execution_count": null,
      "outputs": [
        {
          "output_type": "stream",
          "text": [
            "Model: \"sequential_3\"\n",
            "_________________________________________________________________\n",
            "Layer (type)                 Output Shape              Param #   \n",
            "=================================================================\n",
            "dense_2 (Dense)              (None, 1)                 2         \n",
            "=================================================================\n",
            "Total params: 2\n",
            "Trainable params: 2\n",
            "Non-trainable params: 0\n",
            "_________________________________________________________________\n"
          ],
          "name": "stdout"
        }
      ]
    },
    {
      "cell_type": "code",
      "metadata": {
        "id": "ht6GH5-EYgfM",
        "colab_type": "code",
        "colab": {
          "base_uri": "https://localhost:8080/",
          "height": 1000
        },
        "outputId": "b387f6c1-5dbb-4cbd-b3b5-374da0b11456"
      },
      "source": [
        "#Train the model\n",
        "\n",
        "model.fit(x_train,y_train,epochs=100,verbose=1)"
      ],
      "execution_count": null,
      "outputs": [
        {
          "output_type": "stream",
          "text": [
            "Epoch 1/100\n",
            "160/160 [==============================] - 0s 1ms/step - loss: 1.4818\n",
            "Epoch 2/100\n",
            "160/160 [==============================] - 0s 51us/step - loss: 1.3872\n",
            "Epoch 3/100\n",
            "160/160 [==============================] - 0s 52us/step - loss: 1.3001\n",
            "Epoch 4/100\n",
            "160/160 [==============================] - 0s 39us/step - loss: 1.2184\n",
            "Epoch 5/100\n",
            "160/160 [==============================] - 0s 43us/step - loss: 1.1427\n",
            "Epoch 6/100\n",
            "160/160 [==============================] - 0s 42us/step - loss: 1.0728\n",
            "Epoch 7/100\n",
            "160/160 [==============================] - 0s 41us/step - loss: 1.0074\n",
            "Epoch 8/100\n",
            "160/160 [==============================] - 0s 58us/step - loss: 0.9471\n",
            "Epoch 9/100\n",
            "160/160 [==============================] - 0s 44us/step - loss: 0.8898\n",
            "Epoch 10/100\n",
            "160/160 [==============================] - 0s 52us/step - loss: 0.8369\n",
            "Epoch 11/100\n",
            "160/160 [==============================] - 0s 42us/step - loss: 0.7881\n",
            "Epoch 12/100\n",
            "160/160 [==============================] - 0s 45us/step - loss: 0.7430\n",
            "Epoch 13/100\n",
            "160/160 [==============================] - 0s 43us/step - loss: 0.7001\n",
            "Epoch 14/100\n",
            "160/160 [==============================] - 0s 44us/step - loss: 0.6607\n",
            "Epoch 15/100\n",
            "160/160 [==============================] - 0s 43us/step - loss: 0.6231\n",
            "Epoch 16/100\n",
            "160/160 [==============================] - 0s 42us/step - loss: 0.5887\n",
            "Epoch 17/100\n",
            "160/160 [==============================] - 0s 45us/step - loss: 0.5567\n",
            "Epoch 18/100\n",
            "160/160 [==============================] - 0s 41us/step - loss: 0.5265\n",
            "Epoch 19/100\n",
            "160/160 [==============================] - 0s 46us/step - loss: 0.4989\n",
            "Epoch 20/100\n",
            "160/160 [==============================] - 0s 50us/step - loss: 0.4723\n",
            "Epoch 21/100\n",
            "160/160 [==============================] - 0s 41us/step - loss: 0.4479\n",
            "Epoch 22/100\n",
            "160/160 [==============================] - 0s 42us/step - loss: 0.4252\n",
            "Epoch 23/100\n",
            "160/160 [==============================] - 0s 44us/step - loss: 0.4039\n",
            "Epoch 24/100\n",
            "160/160 [==============================] - 0s 45us/step - loss: 0.3844\n",
            "Epoch 25/100\n",
            "160/160 [==============================] - 0s 45us/step - loss: 0.3658\n",
            "Epoch 26/100\n",
            "160/160 [==============================] - 0s 49us/step - loss: 0.3484\n",
            "Epoch 27/100\n",
            "160/160 [==============================] - 0s 51us/step - loss: 0.3322\n",
            "Epoch 28/100\n",
            "160/160 [==============================] - 0s 71us/step - loss: 0.3173\n",
            "Epoch 29/100\n",
            "160/160 [==============================] - 0s 41us/step - loss: 0.3031\n",
            "Epoch 30/100\n",
            "160/160 [==============================] - 0s 43us/step - loss: 0.2901\n",
            "Epoch 31/100\n",
            "160/160 [==============================] - 0s 45us/step - loss: 0.2778\n",
            "Epoch 32/100\n",
            "160/160 [==============================] - 0s 68us/step - loss: 0.2664\n",
            "Epoch 33/100\n",
            "160/160 [==============================] - 0s 42us/step - loss: 0.2558\n",
            "Epoch 34/100\n",
            "160/160 [==============================] - 0s 45us/step - loss: 0.2458\n",
            "Epoch 35/100\n",
            "160/160 [==============================] - 0s 49us/step - loss: 0.2365\n",
            "Epoch 36/100\n",
            "160/160 [==============================] - 0s 47us/step - loss: 0.2278\n",
            "Epoch 37/100\n",
            "160/160 [==============================] - 0s 46us/step - loss: 0.2196\n",
            "Epoch 38/100\n",
            "160/160 [==============================] - 0s 44us/step - loss: 0.2122\n",
            "Epoch 39/100\n",
            "160/160 [==============================] - 0s 45us/step - loss: 0.2050\n",
            "Epoch 40/100\n",
            "160/160 [==============================] - 0s 41us/step - loss: 0.1984\n",
            "Epoch 41/100\n",
            "160/160 [==============================] - 0s 45us/step - loss: 0.1923\n",
            "Epoch 42/100\n",
            "160/160 [==============================] - 0s 54us/step - loss: 0.1866\n",
            "Epoch 43/100\n",
            "160/160 [==============================] - 0s 49us/step - loss: 0.1812\n",
            "Epoch 44/100\n",
            "160/160 [==============================] - 0s 51us/step - loss: 0.1761\n",
            "Epoch 45/100\n",
            "160/160 [==============================] - 0s 45us/step - loss: 0.1714\n",
            "Epoch 46/100\n",
            "160/160 [==============================] - 0s 52us/step - loss: 0.1672\n",
            "Epoch 47/100\n",
            "160/160 [==============================] - 0s 46us/step - loss: 0.1631\n",
            "Epoch 48/100\n",
            "160/160 [==============================] - 0s 42us/step - loss: 0.1592\n",
            "Epoch 49/100\n",
            "160/160 [==============================] - 0s 44us/step - loss: 0.1556\n",
            "Epoch 50/100\n",
            "160/160 [==============================] - 0s 41us/step - loss: 0.1523\n",
            "Epoch 51/100\n",
            "160/160 [==============================] - 0s 43us/step - loss: 0.1492\n",
            "Epoch 52/100\n",
            "160/160 [==============================] - 0s 43us/step - loss: 0.1464\n",
            "Epoch 53/100\n",
            "160/160 [==============================] - 0s 44us/step - loss: 0.1436\n",
            "Epoch 54/100\n",
            "160/160 [==============================] - 0s 42us/step - loss: 0.1412\n",
            "Epoch 55/100\n",
            "160/160 [==============================] - 0s 40us/step - loss: 0.1387\n",
            "Epoch 56/100\n",
            "160/160 [==============================] - 0s 41us/step - loss: 0.1366\n",
            "Epoch 57/100\n",
            "160/160 [==============================] - 0s 47us/step - loss: 0.1345\n",
            "Epoch 58/100\n",
            "160/160 [==============================] - 0s 47us/step - loss: 0.1325\n",
            "Epoch 59/100\n",
            "160/160 [==============================] - 0s 44us/step - loss: 0.1307\n",
            "Epoch 60/100\n",
            "160/160 [==============================] - 0s 42us/step - loss: 0.1291\n",
            "Epoch 61/100\n",
            "160/160 [==============================] - 0s 45us/step - loss: 0.1275\n",
            "Epoch 62/100\n",
            "160/160 [==============================] - 0s 51us/step - loss: 0.1260\n",
            "Epoch 63/100\n",
            "160/160 [==============================] - 0s 46us/step - loss: 0.1247\n",
            "Epoch 64/100\n",
            "160/160 [==============================] - 0s 46us/step - loss: 0.1234\n",
            "Epoch 65/100\n",
            "160/160 [==============================] - 0s 44us/step - loss: 0.1223\n",
            "Epoch 66/100\n",
            "160/160 [==============================] - 0s 43us/step - loss: 0.1211\n",
            "Epoch 67/100\n",
            "160/160 [==============================] - 0s 58us/step - loss: 0.1201\n",
            "Epoch 68/100\n",
            "160/160 [==============================] - 0s 41us/step - loss: 0.1191\n",
            "Epoch 69/100\n",
            "160/160 [==============================] - 0s 44us/step - loss: 0.1182\n",
            "Epoch 70/100\n",
            "160/160 [==============================] - 0s 45us/step - loss: 0.1174\n",
            "Epoch 71/100\n",
            "160/160 [==============================] - 0s 50us/step - loss: 0.1166\n",
            "Epoch 72/100\n",
            "160/160 [==============================] - 0s 45us/step - loss: 0.1158\n",
            "Epoch 73/100\n",
            "160/160 [==============================] - 0s 44us/step - loss: 0.1152\n",
            "Epoch 74/100\n",
            "160/160 [==============================] - 0s 48us/step - loss: 0.1145\n",
            "Epoch 75/100\n",
            "160/160 [==============================] - 0s 46us/step - loss: 0.1139\n",
            "Epoch 76/100\n",
            "160/160 [==============================] - 0s 47us/step - loss: 0.1134\n",
            "Epoch 77/100\n",
            "160/160 [==============================] - 0s 42us/step - loss: 0.1128\n",
            "Epoch 78/100\n",
            "160/160 [==============================] - 0s 48us/step - loss: 0.1123\n",
            "Epoch 79/100\n",
            "160/160 [==============================] - 0s 46us/step - loss: 0.1119\n",
            "Epoch 80/100\n",
            "160/160 [==============================] - 0s 63us/step - loss: 0.1114\n",
            "Epoch 81/100\n",
            "160/160 [==============================] - 0s 49us/step - loss: 0.1111\n",
            "Epoch 82/100\n",
            "160/160 [==============================] - 0s 51us/step - loss: 0.1107\n",
            "Epoch 83/100\n",
            "160/160 [==============================] - 0s 53us/step - loss: 0.1104\n",
            "Epoch 84/100\n",
            "160/160 [==============================] - 0s 59us/step - loss: 0.1100\n",
            "Epoch 85/100\n",
            "160/160 [==============================] - 0s 42us/step - loss: 0.1097\n",
            "Epoch 86/100\n",
            "160/160 [==============================] - 0s 58us/step - loss: 0.1095\n",
            "Epoch 87/100\n",
            "160/160 [==============================] - 0s 50us/step - loss: 0.1092\n",
            "Epoch 88/100\n",
            "160/160 [==============================] - 0s 49us/step - loss: 0.1089\n",
            "Epoch 89/100\n",
            "160/160 [==============================] - 0s 50us/step - loss: 0.1087\n",
            "Epoch 90/100\n",
            "160/160 [==============================] - 0s 51us/step - loss: 0.1085\n",
            "Epoch 91/100\n",
            "160/160 [==============================] - 0s 44us/step - loss: 0.1083\n",
            "Epoch 92/100\n",
            "160/160 [==============================] - 0s 44us/step - loss: 0.1081\n",
            "Epoch 93/100\n",
            "160/160 [==============================] - 0s 48us/step - loss: 0.1079\n",
            "Epoch 94/100\n",
            "160/160 [==============================] - 0s 42us/step - loss: 0.1077\n",
            "Epoch 95/100\n",
            "160/160 [==============================] - 0s 46us/step - loss: 0.1076\n",
            "Epoch 96/100\n",
            "160/160 [==============================] - 0s 44us/step - loss: 0.1074\n",
            "Epoch 97/100\n",
            "160/160 [==============================] - 0s 40us/step - loss: 0.1074\n",
            "Epoch 98/100\n",
            "160/160 [==============================] - 0s 42us/step - loss: 0.1072\n",
            "Epoch 99/100\n",
            "160/160 [==============================] - 0s 43us/step - loss: 0.1071\n",
            "Epoch 100/100\n",
            "160/160 [==============================] - 0s 58us/step - loss: 0.1070\n"
          ],
          "name": "stdout"
        },
        {
          "output_type": "execute_result",
          "data": {
            "text/plain": [
              "<keras.callbacks.callbacks.History at 0x7ffaa8cad2e8>"
            ]
          },
          "metadata": {
            "tags": []
          },
          "execution_count": 42
        }
      ]
    },
    {
      "cell_type": "code",
      "metadata": {
        "id": "k6UWdlXQY88v",
        "colab_type": "code",
        "colab": {
          "base_uri": "https://localhost:8080/",
          "height": 52
        },
        "outputId": "af6febcc-23d8-4e8b-b3da-923abb2066c6"
      },
      "source": [
        "#evaluate model\n",
        "\n",
        "cost = model.evaluate(x_test,y_test)\n",
        "cost\n"
      ],
      "execution_count": null,
      "outputs": [
        {
          "output_type": "stream",
          "text": [
            "40/40 [==============================] - 0s 75us/step\n"
          ],
          "name": "stdout"
        },
        {
          "output_type": "execute_result",
          "data": {
            "text/plain": [
              "0.14208754897117615"
            ]
          },
          "metadata": {
            "tags": []
          },
          "execution_count": 44
        }
      ]
    },
    {
      "cell_type": "code",
      "metadata": {
        "id": "h8FpjEa0bRii",
        "colab_type": "code",
        "colab": {
          "base_uri": "https://localhost:8080/",
          "height": 52
        },
        "outputId": "1c7fbdfd-3a21-48b4-bc07-ecdf9b83053c"
      },
      "source": [
        "final_weights = model.layers[0].get_weights()\n",
        "print(final_weights)\n",
        "w,b = final_weights[0][0][0],final_weights[1][0]\n",
        "print(w,b)"
      ],
      "execution_count": null,
      "outputs": [
        {
          "output_type": "stream",
          "text": [
            "[array([[1.982914]], dtype=float32), array([-0.0124623], dtype=float32)]\n",
            "1.982914 -0.012462304\n"
          ],
          "name": "stdout"
        }
      ]
    },
    {
      "cell_type": "code",
      "metadata": {
        "id": "dd7Q9xpIcBrc",
        "colab_type": "code",
        "colab": {
          "base_uri": "https://localhost:8080/",
          "height": 159
        },
        "outputId": "702d9c03-6232-4022-a17c-dad31b069671"
      },
      "source": [
        "#prediction\n",
        "pred = w*x_test +b\n",
        "pred"
      ],
      "execution_count": null,
      "outputs": [
        {
          "output_type": "execute_result",
          "data": {
            "text/plain": [
              "array([-1.67651574, -0.24164332,  0.47579289, -1.91566114,  1.27294424,\n",
              "       -1.39751277,  0.35622019, -0.48078872, -0.2615721 , -1.7163733 ,\n",
              "       -0.36121602, -0.64021899,  0.61529438, -1.79608844, -0.97900831,\n",
              "        0.39607776,  0.81458222, -0.12207061,  0.31636263, -0.89929318,\n",
              "       -1.17829615,  0.09714601, -1.57687182, -1.21815371, -0.5007175 ,\n",
              "       -0.85943561, -0.95907953, -1.93558992, -0.91922196, -0.79964926,\n",
              "        1.89073653, -1.31779763, -1.07865223, -0.08221305, -0.34128723,\n",
              "        1.59180478, -0.70000534, -0.10214183, -1.83594601, -0.68007656])"
            ]
          },
          "metadata": {
            "tags": []
          },
          "execution_count": 50
        }
      ]
    },
    {
      "cell_type": "code",
      "metadata": {
        "id": "KYQLQap9cWTu",
        "colab_type": "code",
        "colab": {
          "base_uri": "https://localhost:8080/",
          "height": 265
        },
        "outputId": "b21b7d8b-b43b-4647-8c53-4b43ac3343c3"
      },
      "source": [
        "plt.scatter(x_test,y_test)\n",
        "plt.plot(x_test,pred,label=\"predicted\")\n",
        "plt.plot(x_test,w_init*x_test+b_init,label='initial')\n",
        "plt.legend()\n",
        "plt.show()"
      ],
      "execution_count": null,
      "outputs": [
        {
          "output_type": "display_data",
          "data": {
            "image/png": "[encoded data removed]",
            "text/plain": [
              "<Figure size 432x288 with 1 Axes>"
            ]
          },
          "metadata": {
            "tags": [],
            "needs_background": "light"
          }
        }
      ]
    }
  ]
}