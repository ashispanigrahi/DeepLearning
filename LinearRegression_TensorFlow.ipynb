{
  "nbformat": 4,
  "nbformat_minor": 0,
  "metadata": {
    "colab": {
      "name": "LinearRegression_TensorFlow.ipynb",
      "provenance": []
    },
    "kernelspec": {
      "name": "python3",
      "display_name": "Python 3"
    }
  },
  "cells": [
    {
      "cell_type": "code",
      "metadata": {
        "id": "3YX5ajX2d2f_",
        "colab_type": "code",
        "colab": {
          "base_uri": "https://localhost:8080/",
          "height": 90
        },
        "outputId": "8e2a6c76-0741-4347-f55c-ef91794ffdfc"
      },
      "source": [
        "import tensorflow.compat.v1 as tf\n",
        "tf.disable_v2_behavior()\n",
        "import numpy as np\n",
        "import matplotlib.pyplot as plt\n",
        "rng = np.random"
      ],
      "execution_count": 12,
      "outputs": [
        {
          "output_type": "stream",
          "text": [
            "WARNING:tensorflow:From /usr/local/lib/python3.6/dist-packages/tensorflow/python/compat/v2_compat.py:96: disable_resource_variables (from tensorflow.python.ops.variable_scope) is deprecated and will be removed in a future version.\n",
            "Instructions for updating:\n",
            "non-resource variables are not supported in the long term\n"
          ],
          "name": "stdout"
        }
      ]
    },
    {
      "cell_type": "code",
      "metadata": {
        "id": "iFCmwWEQel2q",
        "colab_type": "code",
        "colab": {
          "base_uri": "https://localhost:8080/",
          "height": 35
        },
        "outputId": "f4a2bd06-183a-4296-de6a-677e5cc1b3ee"
      },
      "source": [
        "print(tf.__version__)"
      ],
      "execution_count": 4,
      "outputs": [
        {
          "output_type": "stream",
          "text": [
            "2.2.0\n"
          ],
          "name": "stdout"
        }
      ]
    },
    {
      "cell_type": "code",
      "metadata": {
        "id": "rtwWeVzIe_ay",
        "colab_type": "code",
        "colab": {
          "base_uri": "https://localhost:8080/",
          "height": 52
        },
        "outputId": "8fa2ac8e-c064-4440-bf9d-90efb0bf22f3"
      },
      "source": [
        "%tensorflow_version 1.x\n",
        "print(tf.__version__)"
      ],
      "execution_count": 8,
      "outputs": [
        {
          "output_type": "stream",
          "text": [
            "TensorFlow is already loaded. Please restart the runtime to change versions.\n",
            "2.2.0\n"
          ],
          "name": "stdout"
        }
      ]
    },
    {
      "cell_type": "code",
      "metadata": {
        "id": "F9rZ8XeRu25Q",
        "colab_type": "code",
        "colab": {}
      },
      "source": [
        "# y = wx + b  (w =weight,b =bias)\n",
        "\n",
        "X =tf.placeholder(\"float\")\n",
        "Y =tf.placeholder(\"float\")\n",
        "\n",
        "W =tf.Variable(rng.randn(),\"weight\")\n",
        "B =tf.Variable(rng.randn(),\"bias\")\n"
      ],
      "execution_count": 47,
      "outputs": []
    },
    {
      "cell_type": "code",
      "metadata": {
        "id": "oK-0jngGy2K0",
        "colab_type": "code",
        "colab": {}
      },
      "source": [
        "train_X = np.asarray([3.3,4.4,5.5,6.71,6.93,4.168,9.779,6.182,7.59,2.167,\n",
        "                         7.042,10.791,5.313,7.997,5.654,9.27,3.1])\n",
        "train_Y = np.asarray([1.7,2.76,2.09,3.19,1.694,1.573,3.366,2.596,2.53,1.221,\n",
        "                         2.827,3.465,1.65,2.904,2.42,2.94,1.3])\n",
        "n_samples = train_X.shape[0]"
      ],
      "execution_count": 32,
      "outputs": []
    },
    {
      "cell_type": "code",
      "metadata": {
        "id": "Hoa2dtiZz8DE",
        "colab_type": "code",
        "colab": {}
      },
      "source": [
        "# Parameters\n",
        "learning_rate = 0.01\n",
        "training_epochs = 1000\n",
        "display_step = 50"
      ],
      "execution_count": 33,
      "outputs": []
    },
    {
      "cell_type": "code",
      "metadata": {
        "id": "uGg13tx7xxt_",
        "colab_type": "code",
        "colab": {}
      },
      "source": [
        "#find prediction\n",
        "\n",
        "#construct a linear model\n",
        "pred = tf.add(tf.multiply(W,X),B)\n",
        "\n",
        "#find cost function\n",
        "\n",
        "cost = tf.reduce_sum(tf.pow(Y-pred,2))/(2*n_samples)\n",
        "\n",
        "#apply gradient descent to reduce error\n",
        "optimizer = tf.train.GradientDescentOptimizer(learning_rate).minimize(cost)\n",
        "\n",
        "#initialize the variables\n",
        "\n",
        "init = tf.global_variables_initializer()"
      ],
      "execution_count": 49,
      "outputs": []
    },
    {
      "cell_type": "code",
      "metadata": {
        "id": "TrBmCLLO0g0y",
        "colab_type": "code",
        "colab": {
          "base_uri": "https://localhost:8080/",
          "height": 1000
        },
        "outputId": "6ba18333-650f-4437-b585-30286f179ea2"
      },
      "source": [
        "#Train the model\n",
        "\n",
        "sess = tf.Session() \n",
        "\n",
        "# Run the initializer\n",
        "sess.run(init)\n",
        "\n",
        "\n",
        "#fit training data\n",
        "\n",
        "for epoch in range(training_epochs):\n",
        "  for(x,y) in zip(train_X,train_Y):\n",
        "    sess.run(optimizer, feed_dict={X: x, Y: y})\n",
        "    # Display logs per epoch step\n",
        "    if (epoch+1) % display_step == 0:\n",
        "        c = sess.run(cost, feed_dict={X: train_X, Y:train_Y})\n",
        "        print(\"Epoch:\", '%04d' % (epoch+1), \"cost=\", \"{:.9f}\".format(c), \"W=\", sess.run(W), \"b=\", sess.run(b))\n",
        "        \n",
        "print(\"Optimization Finished!\")\n",
        "\n",
        "training_cost = sess.run(cost, feed_dict={X: train_X, Y: train_Y})\n",
        "print(\"Training cost=\", training_cost, \"W=\", sess.run(W), \"b=\", sess.run(b), '\\n')\n"
      ],
      "execution_count": 51,
      "outputs": [
        {
          "output_type": "stream",
          "text": [
            "Epoch: 0050 cost= 0.191326395 W= 0.059661277 b= 1.09175\n",
            "Epoch: 0050 cost= 0.191348121 W= 0.060539376 b= 1.09175\n",
            "Epoch: 0050 cost= 0.191338405 W= 0.05924076 b= 1.09175\n",
            "Epoch: 0050 cost= 0.191412866 W= 0.061744403 b= 1.09175\n",
            "Epoch: 0050 cost= 0.191402540 W= 0.058106355 b= 1.09175\n",
            "Epoch: 0050 cost= 0.191634357 W= 0.056078196 b= 1.09175\n",
            "Epoch: 0050 cost= 0.191273093 W= 0.0598751 b= 1.09175\n",
            "Epoch: 0050 cost= 0.191274837 W= 0.06012207 b= 1.09175\n",
            "Epoch: 0050 cost= 0.191275209 W= 0.059745673 b= 1.09175\n",
            "Epoch: 0050 cost= 0.191261366 W= 0.05838633 b= 1.09175\n",
            "Epoch: 0050 cost= 0.191209167 W= 0.059457302 b= 1.09175\n",
            "Epoch: 0050 cost= 0.191479802 W= 0.06368447 b= 1.09175\n",
            "Epoch: 0050 cost= 0.191172063 W= 0.061039843 b= 1.09175\n",
            "Epoch: 0050 cost= 0.191259295 W= 0.062255938 b= 1.09175\n",
            "Epoch: 0050 cost= 0.191228926 W= 0.06195829 b= 1.09175\n",
            "Epoch: 0050 cost= 0.191352367 W= 0.063093595 b= 1.09175\n",
            "Epoch: 0050 cost= 0.191107109 W= 0.06117313 b= 1.09175\n",
            "Epoch: 0100 cost= 0.178152233 W= 0.07096591 b= 1.09175\n",
            "Epoch: 0100 cost= 0.178173587 W= 0.071924105 b= 1.09175\n",
            "Epoch: 0100 cost= 0.178162739 W= 0.0706839 b= 1.09175\n",
            "Epoch: 0100 cost= 0.178245917 W= 0.07320284 b= 1.09175\n",
            "Epoch: 0100 cost= 0.178221866 W= 0.06956989 b= 1.09175\n",
            "Epoch: 0100 cost= 0.178434938 W= 0.06762234 b= 1.09175\n",
            "Epoch: 0100 cost= 0.178104997 W= 0.07123372 b= 1.09175\n",
            "Epoch: 0100 cost= 0.178106904 W= 0.071518645 b= 1.09175\n",
            "Epoch: 0100 cost= 0.178107157 W= 0.071116135 b= 1.09175\n",
            "Epoch: 0100 cost= 0.178096130 W= 0.06982819 b= 1.09175\n",
            "Epoch: 0100 cost= 0.178047314 W= 0.07089936 b= 1.09175\n",
            "Epoch: 0100 cost= 0.178290412 W= 0.07485453 b= 1.09175\n",
            "Epoch: 0100 cost= 0.178011656 W= 0.07227647 b= 1.09175\n",
            "Epoch: 0100 cost= 0.178087547 W= 0.07344917 b= 1.09175\n",
            "Epoch: 0100 cost= 0.178064838 W= 0.07320924 b= 1.09175\n",
            "Epoch: 0100 cost= 0.178166047 W= 0.07421549 b= 1.09175\n",
            "Epoch: 0100 cost= 0.177952573 W= 0.0723792 b= 1.09175\n",
            "Epoch: 0150 cost= 0.166497275 W= 0.081598096 b= 1.09175\n",
            "Epoch: 0150 cost= 0.166517898 W= 0.08263163 b= 1.09175\n",
            "Epoch: 0150 cost= 0.166506201 W= 0.081446365 b= 1.09175\n",
            "Epoch: 0150 cost= 0.166597560 W= 0.0839797 b= 1.09175\n",
            "Epoch: 0150 cost= 0.166560709 W= 0.080351554 b= 1.09175\n",
            "Epoch: 0150 cost= 0.166756839 W= 0.07847981 b= 1.09175\n",
            "Epoch: 0150 cost= 0.166455045 W= 0.0819167 b= 1.09175\n",
            "Epoch: 0150 cost= 0.166457176 W= 0.08223732 b= 1.09175\n",
            "Epoch: 0150 cost= 0.166457295 W= 0.08181024 b= 1.09175\n",
            "Epoch: 0150 cost= 0.166448712 W= 0.08058946 b= 1.09175\n",
            "Epoch: 0150 cost= 0.166403055 W= 0.081660815 b= 1.09175\n",
            "Epoch: 0150 cost= 0.166621536 W= 0.08536017 b= 1.09175\n",
            "Epoch: 0150 cost= 0.166369066 W= 0.08284472 b= 1.09175\n",
            "Epoch: 0150 cost= 0.166434854 W= 0.0839766 b= 1.09175\n",
            "Epoch: 0150 cost= 0.166418523 W= 0.08379094 b= 1.09175\n",
            "Epoch: 0150 cost= 0.166500792 W= 0.08467581 b= 1.09175\n",
            "Epoch: 0150 cost= 0.166315407 W= 0.0829187 b= 1.09175\n",
            "Epoch: 0200 cost= 0.156185612 W= 0.09159848 b= 1.09175\n",
            "Epoch: 0200 cost= 0.156205267 W= 0.09270288 b= 1.09175\n",
            "Epoch: 0200 cost= 0.156192824 W= 0.09156928 b= 1.09175\n",
            "Epoch: 0200 cost= 0.156292006 W= 0.09411615 b= 1.09175\n",
            "Epoch: 0200 cost= 0.156243160 W= 0.09049251 b= 1.09175\n",
            "Epoch: 0200 cost= 0.156423956 W= 0.08869208 b= 1.09175\n",
            "Epoch: 0200 cost= 0.156147569 W= 0.09196484 b= 1.09175\n",
            "Epoch: 0200 cost= 0.156149909 W= 0.09231904 b= 1.09175\n",
            "Epoch: 0200 cost= 0.156149819 W= 0.09186886 b= 1.09175\n",
            "Epoch: 0200 cost= 0.156143323 W= 0.090711236 b= 1.09175\n",
            "Epoch: 0200 cost= 0.156100661 W= 0.09178276 b= 1.09175\n",
            "Epoch: 0200 cost= 0.156297162 W= 0.0952415 b= 1.09175\n",
            "Epoch: 0200 cost= 0.156068459 W= 0.09278494 b= 1.09175\n",
            "Epoch: 0200 cost= 0.156125233 W= 0.093878426 b= 1.09175\n",
            "Epoch: 0200 cost= 0.156114250 W= 0.09374382 b= 1.09175\n",
            "Epoch: 0200 cost= 0.156180397 W= 0.09451453 b= 1.09175\n",
            "Epoch: 0200 cost= 0.156019911 W= 0.09283189 b= 1.09175\n",
            "Epoch: 0250 cost= 0.147063330 W= 0.10100369 b= 1.09175\n",
            "Epoch: 0250 cost= 0.147081718 W= 0.10217473 b= 1.09175\n",
            "Epoch: 0250 cost= 0.147068724 W= 0.10108973 b= 1.09175\n",
            "Epoch: 0250 cost= 0.147175327 W= 0.10364933 b= 1.09175\n",
            "Epoch: 0250 cost= 0.147115156 W= 0.10002993 b= 1.09175\n",
            "Epoch: 0250 cost= 0.147282198 W= 0.09829656 b= 1.09175\n",
            "Epoch: 0250 cost= 0.147028670 W= 0.10141496 b= 1.09175\n",
            "Epoch: 0250 cost= 0.147031099 W= 0.10180074 b= 1.09175\n",
            "Epoch: 0250 cost= 0.147030890 W= 0.101328835 b= 1.09175\n",
            "Epoch: 0250 cost= 0.147026226 W= 0.10023062 b= 1.09175\n",
            "Epoch: 0250 cost= 0.146986395 W= 0.10130231 b= 1.09175\n",
            "Epoch: 0250 cost= 0.147163153 W= 0.104534745 b= 1.09175\n",
            "Epoch: 0250 cost= 0.146956101 W= 0.102133565 b= 1.09175\n",
            "Epoch: 0250 cost= 0.147004798 W= 0.10319094 b= 1.09175\n",
            "Epoch: 0250 cost= 0.146998271 W= 0.10310436 b= 1.09175\n",
            "Epoch: 0250 cost= 0.147050753 W= 0.103767686 b= 1.09175\n",
            "Epoch: 0250 cost= 0.146912277 W= 0.10215509 b= 1.09175\n",
            "Epoch: 0300 cost= 0.138992772 W= 0.10984938 b= 1.09175\n",
            "Epoch: 0300 cost= 0.139009789 W= 0.1110831 b= 1.09175\n",
            "Epoch: 0300 cost= 0.138996303 W= 0.11004381 b= 1.09175\n",
            "Epoch: 0300 cost= 0.139109969 W= 0.112615384 b= 1.09175\n",
            "Epoch: 0300 cost= 0.139039233 W= 0.108999975 b= 1.09175\n",
            "Epoch: 0300 cost= 0.139193743 W= 0.10732968 b= 1.09175\n",
            "Epoch: 0300 cost= 0.138960838 W= 0.11030292 b= 1.09175\n",
            "Epoch: 0300 cost= 0.138963446 W= 0.11071839 b= 1.09175\n",
            "Epoch: 0300 cost= 0.138963044 W= 0.11022605 b= 1.09175\n",
            "Epoch: 0300 cost= 0.138959959 W= 0.1091837 b= 1.09175\n",
            "Epoch: 0300 cost= 0.138922751 W= 0.11025555 b= 1.09175\n",
            "Epoch: 0300 cost= 0.139081791 W= 0.11327515 b= 1.09175\n",
            "Epoch: 0300 cost= 0.138894394 W= 0.110926054 b= 1.09175\n",
            "Epoch: 0300 cost= 0.138935968 W= 0.11194947 b= 1.09175\n",
            "Epoch: 0300 cost= 0.138933077 W= 0.11190805 b= 1.09175\n",
            "Epoch: 0300 cost= 0.138973981 W= 0.11247039 b= 1.09175\n",
            "Epoch: 0300 cost= 0.138855040 W= 0.11092366 b= 1.09175\n",
            "Epoch: 0350 cost= 0.131852522 W= 0.11816908 b= 1.09175\n",
            "Epoch: 0350 cost= 0.131867990 W= 0.119461745 b= 1.09175\n",
            "Epoch: 0350 cost= 0.131854177 W= 0.118465446 b= 1.09175\n",
            "Epoch: 0350 cost= 0.131974488 W= 0.12104828 b= 1.09175\n",
            "Epoch: 0350 cost= 0.131893814 W= 0.117436625 b= 1.09175\n",
            "Epoch: 0350 cost= 0.132037044 W= 0.11582565 b= 1.09175\n",
            "Epoch: 0350 cost= 0.131822765 W= 0.11866235 b= 1.09175\n",
            "Epoch: 0350 cost= 0.131825462 W= 0.119105764 b= 1.09175\n",
            "Epoch: 0350 cost= 0.131824896 W= 0.1185942 b= 1.09175\n",
            "Epoch: 0350 cost= 0.131823137 W= 0.1176044 b= 1.09175\n",
            "Epoch: 0350 cost= 0.131788418 W= 0.11867639 b= 1.09175\n",
            "Epoch: 0350 cost= 0.131931633 W= 0.12149581 b= 1.09175\n",
            "Epoch: 0350 cost= 0.131762087 W= 0.119195715 b= 1.09175\n",
            "Epoch: 0350 cost= 0.131797224 W= 0.1201872 b= 1.09175\n",
            "Epoch: 0350 cost= 0.131797284 W= 0.12018825 b= 1.09175\n",
            "Epoch: 0350 cost= 0.131828502 W= 0.12065561 b= 1.09175\n",
            "Epoch: 0350 cost= 0.131726861 W= 0.11917084 b= 1.09175\n",
            "Epoch: 0400 cost= 0.125535220 W= 0.12599415 b= 1.09175\n",
            "Epoch: 0400 cost= 0.125549063 W= 0.12734227 b= 1.09175\n",
            "Epoch: 0400 cost= 0.125535011 W= 0.1263864 b= 1.09175\n",
            "Epoch: 0400 cost= 0.125661671 W= 0.12897983 b= 1.09175\n",
            "Epoch: 0400 cost= 0.125571653 W= 0.1253717 b= 1.09175\n",
            "Epoch: 0400 cost= 0.125704661 W= 0.12381651 b= 1.09175\n",
            "Epoch: 0400 cost= 0.125507146 W= 0.12652479 b= 1.09175\n",
            "Epoch: 0400 cost= 0.125509962 W= 0.12699448 b= 1.09175\n",
            "Epoch: 0400 cost= 0.125509202 W= 0.12646483 b= 1.09175\n",
            "Epoch: 0400 cost= 0.125508606 W= 0.12552445 b= 1.09175\n",
            "Epoch: 0400 cost= 0.125476241 W= 0.12659657 b= 1.09175\n",
            "Epoch: 0400 cost= 0.125605211 W= 0.12922771 b= 1.09175\n",
            "Epoch: 0400 cost= 0.125451937 W= 0.12697369 b= 1.09175\n",
            "Epoch: 0400 cost= 0.125481337 W= 0.12793513 b= 1.09175\n",
            "Epoch: 0400 cost= 0.125483766 W= 0.12797612 b= 1.09175\n",
            "Epoch: 0400 cost= 0.125506908 W= 0.12835415 b= 1.09175\n",
            "Epoch: 0400 cost= 0.125420555 W= 0.12692764 b= 1.09175\n",
            "Epoch: 0450 cost= 0.119945988 W= 0.13335387 b= 1.09175\n",
            "Epoch: 0450 cost= 0.119958147 W= 0.13475414 b= 1.09175\n",
            "Epoch: 0450 cost= 0.119943917 W= 0.1338363 b= 1.09175\n",
            "Epoch: 0450 cost= 0.120076574 W= 0.13643968 b= 1.09175\n",
            "Epoch: 0450 cost= 0.119977795 W= 0.13283487 b= 1.09175\n",
            "Epoch: 0450 cost= 0.120101511 W= 0.13133217 b= 1.09175\n",
            "Epoch: 0450 cost= 0.119919218 W= 0.13391966 b= 1.09175\n",
            "Epoch: 0450 cost= 0.119922131 W= 0.13441405 b= 1.09175\n",
            "Epoch: 0450 cost= 0.119921207 W= 0.1338674 b= 1.09175\n",
            "Epoch: 0450 cost= 0.119921587 W= 0.1329735 b= 1.09175\n",
            "Epoch: 0450 cost= 0.119891420 W= 0.13404576 b= 1.09175\n",
            "Epoch: 0450 cost= 0.120007642 W= 0.13649984 b= 1.09175\n",
            "Epoch: 0450 cost= 0.119869165 W= 0.13428916 b= 1.09175\n",
            "Epoch: 0450 cost= 0.119893424 W= 0.13522235 b= 1.09175\n",
            "Epoch: 0450 cost= 0.119897760 W= 0.13530092 b= 1.09175\n",
            "Epoch: 0450 cost= 0.119914196 W= 0.13559492 b= 1.09175\n",
            "Epoch: 0450 cost= 0.119841397 W= 0.13422322 b= 1.09175\n",
            "Epoch: 0500 cost= 0.115001015 W= 0.14027591 b= 1.09175\n",
            "Epoch: 0500 cost= 0.115011379 W= 0.14172523 b= 1.09175\n",
            "Epoch: 0500 cost= 0.114997037 W= 0.14084315 b= 1.09175\n",
            "Epoch: 0500 cost= 0.115135379 W= 0.14345591 b= 1.09175\n",
            "Epoch: 0500 cost= 0.115028381 W= 0.13985422 b= 1.09175\n",
            "Epoch: 0500 cost= 0.115143649 W= 0.13840088 b= 1.09175\n",
            "Epoch: 0500 cost= 0.114975087 W= 0.14087477 b= 1.09175\n",
            "Epoch: 0500 cost= 0.114978105 W= 0.14139241 b= 1.09175\n",
            "Epoch: 0500 cost= 0.114977002 W= 0.14082977 b= 1.09175\n",
            "Epoch: 0500 cost= 0.114978209 W= 0.1399796 b= 1.09175\n",
            "Epoch: 0500 cost= 0.114950113 W= 0.14105198 b= 1.09175\n",
            "Epoch: 0500 cost= 0.115054861 W= 0.1433395 b= 1.09175\n",
            "Epoch: 0500 cost= 0.114929870 W= 0.14116958 b= 1.09175\n",
            "Epoch: 0500 cost= 0.114949577 W= 0.1420762 b= 1.09175\n",
            "Epoch: 0500 cost= 0.114955336 W= 0.1421901 b= 1.09175\n",
            "Epoch: 0500 cost= 0.114966281 W= 0.14240508 b= 1.09175\n",
            "Epoch: 0500 cost= 0.114905424 W= 0.14108492 b= 1.09175\n",
            "Epoch: 0550 cost= 0.110625930 W= 0.14678621 b= 1.09175\n",
            "Epoch: 0550 cost= 0.110634536 W= 0.14828166 b= 1.09175\n",
            "Epoch: 0550 cost= 0.110620126 W= 0.14743322 b= 1.09175\n",
            "Epoch: 0550 cost= 0.110763833 W= 0.15005478 b= 1.09175\n",
            "Epoch: 0550 cost= 0.110649139 W= 0.14645603 b= 1.09175\n",
            "Epoch: 0550 cost= 0.110756747 W= 0.14504911 b= 1.09175\n",
            "Epoch: 0550 cost= 0.110600643 W= 0.14741614 b= 1.09175\n",
            "Epoch: 0550 cost= 0.110603712 W= 0.14795564 b= 1.09175\n",
            "Epoch: 0550 cost= 0.110602446 W= 0.14737797 b= 1.09175\n",
            "Epoch: 0550 cost= 0.110604353 W= 0.14656892 b= 1.09175\n",
            "Epoch: 0550 cost= 0.110578209 W= 0.1476414 b= 1.09175\n",
            "Epoch: 0550 cost= 0.110672660 W= 0.14977229 b= 1.09175\n",
            "Epoch: 0550 cost= 0.110559985 W= 0.1476407 b= 1.09175\n",
            "Epoch: 0550 cost= 0.110575587 W= 0.14852233 b= 1.09175\n",
            "Epoch: 0550 cost= 0.110582374 W= 0.14866948 b= 1.09175\n",
            "Epoch: 0550 cost= 0.110588878 W= 0.14881013 b= 1.09175\n",
            "Epoch: 0550 cost= 0.110538691 W= 0.14753847 b= 1.09175\n",
            "Epoch: 0600 cost= 0.106755212 W= 0.15290894 b= 1.09175\n",
            "Epoch: 0600 cost= 0.106762014 W= 0.15444776 b= 1.09175\n",
            "Epoch: 0600 cost= 0.106747590 W= 0.15363097 b= 1.09175\n",
            "Epoch: 0600 cost= 0.106896423 W= 0.15626083 b= 1.09175\n",
            "Epoch: 0600 cost= 0.106774449 W= 0.15266484 b= 1.09175\n",
            "Epoch: 0600 cost= 0.106875099 W= 0.15130158 b= 1.09175\n",
            "Epoch: 0600 cost= 0.106730267 W= 0.15356813 b= 1.09175\n",
            "Epoch: 0600 cost= 0.106733419 W= 0.1541282 b= 1.09175\n",
            "Epoch: 0600 cost= 0.106732003 W= 0.15353638 b= 1.09175\n",
            "Epoch: 0600 cost= 0.106734470 W= 0.152766 b= 1.09175\n",
            "Epoch: 0600 cost= 0.106710181 W= 0.1538386 b= 1.09175\n",
            "Epoch: 0600 cost= 0.106795356 W= 0.15582216 b= 1.09175\n",
            "Epoch: 0600 cost= 0.106693938 W= 0.15372662 b= 1.09175\n",
            "Epoch: 0600 cost= 0.106705859 W= 0.15458474 b= 1.09175\n",
            "Epoch: 0600 cost= 0.106713414 W= 0.15476313 b= 1.09175\n",
            "Epoch: 0600 cost= 0.106716380 W= 0.1548339 b= 1.09175\n",
            "Epoch: 0600 cost= 0.106675573 W= 0.15360783 b= 1.09175\n",
            "Epoch: 0650 cost= 0.103330471 W= 0.15866762 b= 1.09175\n",
            "Epoch: 0650 cost= 0.103335455 W= 0.16024727 b= 1.09175\n",
            "Epoch: 0650 cost= 0.103321083 W= 0.15946022 b= 1.09175\n",
            "Epoch: 0650 cost= 0.103474692 W= 0.16209787 b= 1.09175\n",
            "Epoch: 0650 cost= 0.103345923 W= 0.15850447 b= 1.09175\n",
            "Epoch: 0650 cost= 0.103440240 W= 0.15718226 b= 1.09175\n",
            "Epoch: 0650 cost= 0.103305645 W= 0.1593543 b= 1.09175\n",
            "Epoch: 0650 cost= 0.103308871 W= 0.15993369 b= 1.09175\n",
            "Epoch: 0650 cost= 0.103307277 W= 0.15932857 b= 1.09175\n",
            "Epoch: 0650 cost= 0.103310250 W= 0.15859456 b= 1.09175\n",
            "Epoch: 0650 cost= 0.103287660 W= 0.15966725 b= 1.09175\n",
            "Epoch: 0650 cost= 0.103364483 W= 0.16151226 b= 1.09175\n",
            "Epoch: 0650 cost= 0.103273369 W= 0.15945064 b= 1.09175\n",
            "Epoch: 0650 cost= 0.103281997 W= 0.16028665 b= 1.09175\n",
            "Epoch: 0650 cost= 0.103290021 W= 0.16049445 b= 1.09175\n",
            "Epoch: 0650 cost= 0.103290237 W= 0.16049947 b= 1.09175\n",
            "Epoch: 0650 cost= 0.103257775 W= 0.15931629 b= 1.09175\n",
            "Epoch: 0700 cost= 0.100300238 W= 0.16408385 b= 1.09175\n",
            "Epoch: 0700 cost= 0.100303449 W= 0.16570187 b= 1.09175\n",
            "Epoch: 0700 cost= 0.100289121 W= 0.16494282 b= 1.09175\n",
            "Epoch: 0700 cost= 0.100447290 W= 0.1675878 b= 1.09175\n",
            "Epoch: 0700 cost= 0.100312136 W= 0.16399685 b= 1.09175\n",
            "Epoch: 0700 cost= 0.100400671 W= 0.16271326 b= 1.09175\n",
            "Epoch: 0700 cost= 0.100275367 W= 0.16479641 b= 1.09175\n",
            "Epoch: 0700 cost= 0.100278676 W= 0.165394 b= 1.09175\n",
            "Epoch: 0700 cost= 0.100276902 W= 0.16477636 b= 1.09175\n",
            "Epoch: 0700 cost= 0.100280263 W= 0.16407657 b= 1.09175\n",
            "Epoch: 0700 cost= 0.100259319 W= 0.16514936 b= 1.09175\n",
            "Epoch: 0700 cost= 0.100328609 W= 0.16686404 b= 1.09175\n",
            "Epoch: 0700 cost= 0.100246921 W= 0.1648343 b= 1.09175\n",
            "Epoch: 0700 cost= 0.100252613 W= 0.16564952 b= 1.09175\n",
            "Epoch: 0700 cost= 0.100260891 W= 0.16588497 b= 1.09175\n",
            "Epoch: 0700 cost= 0.100258939 W= 0.16582815 b= 1.09175\n",
            "Epoch: 0700 cost= 0.100233860 W= 0.1646853 b= 1.09175\n",
            "Epoch: 0750 cost= 0.097618982 W= 0.16917819 b= 1.09175\n",
            "Epoch: 0750 cost= 0.097620435 W= 0.17083229 b= 1.09175\n",
            "Epoch: 0750 cost= 0.097606204 W= 0.17009956 b= 1.09175\n",
            "Epoch: 0750 cost= 0.097768657 W= 0.17275143 b= 1.09175\n",
            "Epoch: 0750 cost= 0.097627498 W= 0.16916278 b= 1.09175\n",
            "Epoch: 0750 cost= 0.097710788 W= 0.16791552 b= 1.09175\n",
            "Epoch: 0750 cost= 0.097593904 W= 0.16991507 b= 1.09175\n",
            "Epoch: 0750 cost= 0.097597249 W= 0.17052974 b= 1.09175\n",
            "Epoch: 0750 cost= 0.097595349 W= 0.16990033 b= 1.09175\n",
            "Epoch: 0750 cost= 0.097599059 W= 0.16923271 b= 1.09175\n",
            "Epoch: 0750 cost= 0.097579613 W= 0.1703056 b= 1.09175\n",
            "Epoch: 0750 cost= 0.097642131 W= 0.17189771 b= 1.09175\n",
            "Epoch: 0750 cost= 0.097569056 W= 0.16989797 b= 1.09175\n",
            "Epoch: 0750 cost= 0.097572118 W= 0.17069364 b= 1.09175\n",
            "Epoch: 0750 cost= 0.097580448 W= 0.17095509 b= 1.09175\n",
            "Epoch: 0750 cost= 0.097576976 W= 0.17084011 b= 1.09175\n",
            "Epoch: 0750 cost= 0.097558439 W= 0.1697352 b= 1.09175\n",
            "Epoch: 0800 cost= 0.095246598 W= 0.17396945 b= 1.09175\n",
            "Epoch: 0800 cost= 0.095246285 W= 0.17565751 b= 1.09175\n",
            "Epoch: 0800 cost= 0.095232166 W= 0.17494954 b= 1.09175\n",
            "Epoch: 0800 cost= 0.095398664 W= 0.17760791 b= 1.09175\n",
            "Epoch: 0800 cost= 0.095251895 W= 0.17402142 b= 1.09175\n",
            "Epoch: 0800 cost= 0.095330387 W= 0.17280833 b= 1.09175\n",
            "Epoch: 0800 cost= 0.095221207 W= 0.17472926 b= 1.09175\n",
            "Epoch: 0800 cost= 0.095224574 W= 0.17536002 b= 1.09175\n",
            "Epoch: 0800 cost= 0.095222518 W= 0.17471956 b= 1.09175\n",
            "Epoch: 0800 cost= 0.095226489 W= 0.1740822 b= 1.09175\n",
            "Epoch: 0800 cost= 0.095208481 W= 0.17515516 b= 1.09175\n",
            "Epoch: 0800 cost= 0.095264882 W= 0.17663199 b= 1.09175\n",
            "Epoch: 0800 cost= 0.095199741 W= 0.17466047 b= 1.09175\n",
            "Epoch: 0800 cost= 0.095200397 W= 0.17543773 b= 1.09175\n",
            "Epoch: 0800 cost= 0.095208645 W= 0.17572366 b= 1.09175\n",
            "Epoch: 0800 cost= 0.095204093 W= 0.17555399 b= 1.09175\n",
            "Epoch: 0800 cost= 0.095191330 W= 0.17448476 b= 1.09175\n",
            "Epoch: 0850 cost= 0.093147404 W= 0.17847592 b= 1.09175\n",
            "Epoch: 0850 cost= 0.093145415 W= 0.18019591 b= 1.09175\n",
            "Epoch: 0850 cost= 0.093131438 W= 0.17951122 b= 1.09175\n",
            "Epoch: 0850 cost= 0.093301766 W= 0.18217568 b= 1.09175\n",
            "Epoch: 0850 cost= 0.093149662 W= 0.17859122 b= 1.09175\n",
            "Epoch: 0850 cost= 0.093223765 W= 0.17741026 b= 1.09175\n",
            "Epoch: 0850 cost= 0.093121573 W= 0.17925721 b= 1.09175\n",
            "Epoch: 0850 cost= 0.093124993 W= 0.1799031 b= 1.09175\n",
            "Epoch: 0850 cost= 0.093122795 W= 0.17925222 b= 1.09175\n",
            "Epoch: 0850 cost= 0.093126982 W= 0.17864333 b= 1.09175\n",
            "Epoch: 0850 cost= 0.093110338 W= 0.17971636 b= 1.09175\n",
            "Epoch: 0850 cost= 0.093161188 W= 0.18108475 b= 1.09175\n",
            "Epoch: 0850 cost= 0.093103327 W= 0.17913976 b= 1.09175\n",
            "Epoch: 0850 cost= 0.093101837 W= 0.17989972 b= 1.09175\n",
            "Epoch: 0850 cost= 0.093109861 W= 0.18020865 b= 1.09175\n",
            "Epoch: 0850 cost= 0.093104668 W= 0.17998753 b= 1.09175\n",
            "Epoch: 0850 cost= 0.093097016 W= 0.17895186 b= 1.09175\n",
            "Epoch: 0900 cost= 0.091289826 W= 0.18271455 b= 1.09175\n",
            "Epoch: 0900 cost= 0.091286182 W= 0.18446457 b= 1.09175\n",
            "Epoch: 0900 cost= 0.091272362 W= 0.18380179 b= 1.09175\n",
            "Epoch: 0900 cost= 0.091446318 W= 0.18647198 b= 1.09175\n",
            "Epoch: 0900 cost= 0.091289237 W= 0.18288943 b= 1.09175\n",
            "Epoch: 0900 cost= 0.091359325 W= 0.18173869 b= 1.09175\n",
            "Epoch: 0900 cost= 0.091263503 W= 0.18351609 b= 1.09175\n",
            "Epoch: 0900 cost= 0.091266960 W= 0.18417622 b= 1.09175\n",
            "Epoch: 0900 cost= 0.091264635 W= 0.18351555 b= 1.09175\n",
            "Epoch: 0900 cost= 0.091269001 W= 0.18293342 b= 1.09175\n",
            "Epoch: 0900 cost= 0.091253616 W= 0.18400653 b= 1.09175\n",
            "Epoch: 0900 cost= 0.091299474 W= 0.18527293 b= 1.09175\n",
            "Epoch: 0900 cost= 0.091248274 W= 0.1833529 b= 1.09175\n",
            "Epoch: 0900 cost= 0.091244884 W= 0.18409659 b= 1.09175\n",
            "Epoch: 0900 cost= 0.091252550 W= 0.18442716 b= 1.09175\n",
            "Epoch: 0900 cost= 0.091247037 W= 0.18415765 b= 1.09175\n",
            "Epoch: 0900 cost= 0.091243923 W= 0.18315354 b= 1.09175\n",
            "Epoch: 0950 cost= 0.089646183 W= 0.18670104 b= 1.09175\n",
            "Epoch: 0950 cost= 0.089640953 W= 0.18847932 b= 1.09175\n",
            "Epoch: 0950 cost= 0.089627244 W= 0.18783712 b= 1.09175\n",
            "Epoch: 0950 cost= 0.089804620 W= 0.19051272 b= 1.09175\n",
            "Epoch: 0950 cost= 0.089642920 W= 0.18693197 b= 1.09175\n",
            "Epoch: 0950 cost= 0.089709297 W= 0.18580966 b= 1.09175\n",
            "Epoch: 0950 cost= 0.089619286 W= 0.18752162 b= 1.09175\n",
            "Epoch: 0950 cost= 0.089622803 W= 0.18819514 b= 1.09175\n",
            "Epoch: 0950 cost= 0.089620329 W= 0.18752526 b= 1.09175\n",
            "Epoch: 0950 cost= 0.089624830 W= 0.18696831 b= 1.09175\n",
            "Epoch: 0950 cost= 0.089610629 W= 0.1880415 b= 1.09175\n",
            "Epoch: 0950 cost= 0.089651965 W= 0.18921198 b= 1.09175\n",
            "Epoch: 0950 cost= 0.089606903 W= 0.18731543 b= 1.09175\n",
            "Epoch: 0950 cost= 0.089601755 W= 0.18804382 b= 1.09175\n",
            "Epoch: 0950 cost= 0.089609027 W= 0.18839474 b= 1.09175\n",
            "Epoch: 0950 cost= 0.089603484 W= 0.18807971 b= 1.09175\n",
            "Epoch: 0950 cost= 0.089604400 W= 0.18710528 b= 1.09175\n",
            "Epoch: 1000 cost= 0.088191770 W= 0.19045042 b= 1.09175\n",
            "Epoch: 1000 cost= 0.088184968 W= 0.19225526 b= 1.09175\n",
            "Epoch: 1000 cost= 0.088171430 W= 0.19163243 b= 1.09175\n",
            "Epoch: 1000 cost= 0.088352054 W= 0.19431311 b= 1.09175\n",
            "Epoch: 1000 cost= 0.088185892 W= 0.19073406 b= 1.09175\n",
            "Epoch: 1000 cost= 0.088248953 W= 0.18963848 b= 1.09175\n",
            "Epoch: 1000 cost= 0.088164262 W= 0.19128892 b= 1.09175\n",
            "Epoch: 1000 cost= 0.088167787 W= 0.19197503 b= 1.09175\n",
            "Epoch: 1000 cost= 0.088165201 W= 0.19129647 b= 1.09175\n",
            "Epoch: 1000 cost= 0.088169776 W= 0.1907632 b= 1.09175\n",
            "Epoch: 1000 cost= 0.088156730 W= 0.19183645 b= 1.09175\n",
            "Epoch: 1000 cost= 0.088193931 W= 0.19291672 b= 1.09175\n",
            "Epoch: 1000 cost= 0.088154532 W= 0.19104224 b= 1.09175\n",
            "Epoch: 1000 cost= 0.088147819 W= 0.19175623 b= 1.09175\n",
            "Epoch: 1000 cost= 0.088154614 W= 0.19212629 b= 1.09175\n",
            "Epoch: 1000 cost= 0.088149257 W= 0.19176847 b= 1.09175\n",
            "Epoch: 1000 cost= 0.088153757 W= 0.19082196 b= 1.09175\n",
            "Optimization Finished!\n",
            "Training cost= 0.08815376 W= 0.19082196 b= 1.09175 \n",
            "\n"
          ],
          "name": "stdout"
        }
      ]
    },
    {
      "cell_type": "code",
      "metadata": {
        "id": "U56VBjA69S2K",
        "colab_type": "code",
        "colab": {
          "base_uri": "https://localhost:8080/",
          "height": 265
        },
        "outputId": "db726009-fc4a-4ce4-f6cc-b6452b5aedb6"
      },
      "source": [
        "#plot the model\n",
        "\n",
        "plt.plot(train_X,train_Y,\"ro\",label=\"Training Data\")\n",
        "\n",
        "plt.plot(train_X,sess.run(W)*train_X+sess.run(B),label=\"Fitted line\")\n",
        "plt.legend()\n",
        "plt.show()"
      ],
      "execution_count": 57,
      "outputs": [
        {
          "output_type": "display_data",
          "data": {
            "image/png": "[encoded data removed]",
            "text/plain": [
              "<Figure size 432x288 with 1 Axes>"
            ]
          },
          "metadata": {
            "tags": [],
            "needs_background": "light"
          }
        }
      ]
    },
    {
      "cell_type": "code",
      "metadata": {
        "id": "yhSuoJx6-6lu",
        "colab_type": "code",
        "colab": {
          "base_uri": "https://localhost:8080/",
          "height": 301
        },
        "outputId": "7fbd64a5-ebd8-49d3-8ad3-86b66ced4cee"
      },
      "source": [
        "#testing the model\n",
        "\n",
        "test_X = np.asarray([6.83, 4.668, 8.9, 7.91, 5.7, 8.7, 3.1, 2.1])\n",
        "test_Y = np.asarray([1.84, 2.273, 3.2, 2.831, 2.92, 3.24, 1.35, 1.03])\n",
        "\n",
        "test_pred = sess.run(W) * test_X + sess.run(B)\n",
        "\n",
        "print(test_pred)\n",
        "\n",
        "#plotiing\n",
        "plt.plot(test_X,test_Y,\"ro\",label=\"Testing Data\")\n",
        "\n",
        "plt.plot(test_X,test_pred,label=\"Fitted line\")\n",
        "plt.legend()\n",
        "plt.show()"
      ],
      "execution_count": 62,
      "outputs": [
        {
          "output_type": "stream",
          "text": [
            "[2.52757909 2.11502201 2.92258055 2.73366681 2.31195027 2.88441616\n",
            " 1.81581318 1.62499122]\n"
          ],
          "name": "stdout"
        },
        {
          "output_type": "display_data",
          "data": {
            "image/png": "[encoded data removed]",
            "text/plain": [
              "<Figure size 432x288 with 1 Axes>"
            ]
          },
          "metadata": {
            "tags": [],
            "needs_background": "light"
          }
        }
      ]
    }
  ]
}